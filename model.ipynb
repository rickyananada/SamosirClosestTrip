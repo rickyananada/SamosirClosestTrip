{
 "cells": [
  {
   "cell_type": "code",
   "execution_count": null,
   "metadata": {},
   "outputs": [],
   "source": [
    "!pip install osmnx==1.1.2"
   ]
  },
  {
   "cell_type": "code",
   "execution_count": null,
   "metadata": {},
   "outputs": [],
   "source": [
    "!pip install geopy"
   ]
  },
  {
   "cell_type": "code",
   "execution_count": null,
   "metadata": {},
   "outputs": [],
   "source": [
    "import numpy as np\n",
    "\n",
    "from sklearn.feature_extraction.text import CountVectorizer\n",
    "import networkx as nx\n",
    "import osmnx as ox\n",
    "import geopandas as gpd\n",
    "import json\n",
    "from ipyleaflet import *\n",
    "import folium"
   ]
  },
  {
   "cell_type": "code",
   "execution_count": null,
   "metadata": {},
   "outputs": [],
   "source": [
    "start_x = float(input())\n",
    "start_y= float(input())\n",
    "end_x = float(input())\n",
    "end_y= float(input())"
   ]
  },
  {
   "cell_type": "code",
   "execution_count": null,
   "metadata": {},
   "outputs": [],
   "source": [
    "ox.config(log_console=True, use_cache=True)\n",
    "start_latlng = (start_x,start_y)\n",
    "end_latlng = (end_x,end_y)\n",
    "place = 'Samosir, North Sumatra, Indonesia'\n",
    "mode      = 'bike' \n",
    "optimizer = 'length'  \n",
    "graph = ox.graph_from_place(place, network_type = mode)\n",
    "orig_node = ox.get_nearest_node(graph, start_latlng)\n",
    "dest_node = ox.get_nearest_node(graph, end_latlng)\n",
    "shortest_route = nx.shortest_path(graph, orig_node,dest_node,weight=optimizer)\n",
    "shortest_route_map = ox.plot_route_folium(graph, shortest_route)"
   ]
  },
  {
   "cell_type": "code",
   "execution_count": null,
   "metadata": {},
   "outputs": [],
   "source": [
    "start_marker = folium.Marker(\n",
    "        location = start_latlng,\n",
    "        popup = start_latlng,\n",
    "        icon = folium.Icon(color='green'))\n",
    "end_marker = folium.Marker(\n",
    "            location = end_latlng,\n",
    "            popup = end_latlng,\n",
    "            icon = folium.Icon(color='red'))\n",
    "start_marker.add_to(shortest_route_map)\n",
    "end_marker.add_to(shortest_route_map)\n",
    "shortest_route_map.save('templates/map.html')"
   ]
  }
 ],
 "metadata": {
  "kernelspec": {
   "display_name": "Python 3.10.1 64-bit",
   "language": "python",
   "name": "python3"
  },
  "language_info": {
   "name": "python",
   "version": "3.10.1"
  },
  "orig_nbformat": 4,
  "vscode": {
   "interpreter": {
    "hash": "0844e252c62f8de0163d4a132cfd2567073e57fed4f1258adf3416a430052d12"
   }
  }
 },
 "nbformat": 4,
 "nbformat_minor": 2
}
